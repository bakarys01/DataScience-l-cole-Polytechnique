{
  "nbformat": 4,
  "nbformat_minor": 0,
  "metadata": {
    "colab": {
      "name": "SIDIBE_Bakary_DataStreamexercise.ipynb",
      "provenance": [],
      "collapsed_sections": []
    },
    "kernelspec": {
      "name": "python3",
      "display_name": "Python 3"
    }
  },
  "cells": [
    {
      "cell_type": "markdown",
      "metadata": {
        "id": "7-I0I3wbxiPM",
        "colab_type": "text"
      },
      "source": [
        "\n",
        "## <font color=\"blue\">Pseudo code of the reservoir sampling algorithm </font>\n",
        "\n",
        "\n"
      ]
    },
    {
      "cell_type": "markdown",
      "metadata": {
        "id": "BNu4yLBBxral",
        "colab_type": "text"
      },
      "source": [
        "- <b> Initialisation: </b> On crée un tableau de reservoir de taille k.\n",
        "\n",
        "> Et on y copie les k premiers tuples du stream.\n",
        "\n",
        "- Pour i de k+1 à n \n",
        "\n",
        ">> // i l'index du tuple courrant dans le stream\n",
        "\n",
        "> on genere un nombre aléatoire entre 0 et i\n",
        "\n",
        "> on suppose que le nombre généré est j\n",
        "\n",
        "> si j est entre 0 à k-1:\n",
        "\n",
        ">> on remplace le reservoir[j] par le tuple  à la i ème position dans le stream"
      ]
    },
    {
      "cell_type": "markdown",
      "metadata": {
        "id": "2kZHRHqP5Evr",
        "colab_type": "text"
      },
      "source": [
        "## <font color=\"blue\"> Funtional and Robust Python code that process tuple one by one.</font>"
      ]
    },
    {
      "cell_type": "code",
      "metadata": {
        "id": "0bDfvH__SQgi",
        "colab_type": "code",
        "colab": {}
      },
      "source": [
        "from random import random\n",
        "import numpy as np\n",
        "class Reservoir: # class Reservoir\n",
        "\n",
        "    def afficher(self):\n",
        "        print(self.reservoir)\n",
        "\n",
        "    def __init__(self, k): # le constructeur de la class reservoir\n",
        "        \"\"\" les attributs\"\"\"\n",
        "        self.reservoir = [] \n",
        "        self.k=k # la taille du reservoir\n",
        "        self.i=0 # le compteur       \n",
        " \n",
        "    def sampling(self):\n",
        "        # on definit la probabilité de tirer un élément: i/k\n",
        "        if random() >= (self.k/self.i): \n",
        "            return True\n",
        "        else:\n",
        "            return False\n",
        "\n",
        "    def tuple_processing(self,tuple):\n",
        "        if(self.i<self.k): # on remplit le reservoir jusqu'à être remplis\n",
        "            self.reservoir.append(tuple) # ajout d'un tuple au reservoir\n",
        "            \n",
        "        else :\n",
        "            if (self.sampling()==True):# si proba > k/i\n",
        "                j = np.random.randint(0,self.k) # tirage uniforme dans la liste\n",
        "                self.reservoir[j]=tuple # on remplace le reservoir[j] par le tuple à la i ème position dans le streamt\n",
        "        self.i+=1\n"
      ],
      "execution_count": 0,
      "outputs": []
    },
    {
      "cell_type": "code",
      "metadata": {
        "id": "PROy16yCSxg6",
        "colab_type": "code",
        "colab": {
          "base_uri": "https://localhost:8080/",
          "height": 50
        },
        "outputId": "7bfed855-f369-412f-ef61-c0f04e88c873"
      },
      "source": [
        "# Test de la fonction\n",
        "k = 5\n",
        "tuples=np.array(range(20))\n",
        "reservoir=Reservoir(k)\n",
        "for i in tuples:\n",
        "  reservoir.tuple_processing(i)\n",
        "print(\"les {} tuples dans le reservoir:\".format(k))  \n",
        "reservoir.afficher() "
      ],
      "execution_count": 2,
      "outputs": [
        {
          "output_type": "stream",
          "text": [
            "les 5 tuples dans le reservoir:\n",
            "[0, 19, 18, 16, 4]\n"
          ],
          "name": "stdout"
        }
      ]
    },
    {
      "cell_type": "markdown",
      "metadata": {
        "id": "QohwvEun5kcJ",
        "colab_type": "text"
      },
      "source": [
        "\n",
        "## <font color=\"blue\"> Mathematical proof </font>.\n"
      ]
    },
    {
      "cell_type": "markdown",
      "metadata": {
        "id": "pO6ZC48M5rCt",
        "colab_type": "text"
      },
      "source": [
        "\n",
        "> ${\\text { Soit } X=\\left[x_{1}, \\ldots, x_{n}\\right] \\text { un stream d'un nombre inconnu de } n \\text { tuples distincts. \n",
        "Nous voulons}} \\\\ {\\text { obtenir un échantillon } T_{i} \\text { de } k<n \\text { tuples, où } \\forall \\text { }  1 \\leq j \\leq i \\leq n: \\operatorname{Pr}\\left(x_{i} \\in T_{i}\\right)=\\operatorname{Pr}\\left(x_{j} \\in T_{i}\\right)} \\\\ {\\text { Après } i \\text { -th time step. }} \\\\ {\\text { Reservoir Sampling Algorithm: }} \\\\ {\\text { 1. si } i \\leq k: T_{i}=T_{i-1} \\cup\\left\\{x_{i}\\right\\}} \\\\ {\\text { 2. sinon: Avec probabilité } \\frac{k}{i} \\text { remplacé un avec probabilité de choisir l'items dans } T_{i-1}} \\\\ {\\text { avec } x_{i} \\text { . }} $\\\\ \n"
      ]
    },
    {
      "cell_type": "markdown",
      "metadata": {
        "id": "9Yz0WJegNQ3D",
        "colab_type": "text"
      },
      "source": [
        "> {\\text { Nous voudrions prouver que } \\forall \\text { }  1 \\leq j \\leq i \\leq n: \\operatorname{Pr}\\left(x_{i} \\in T_{i}\\right)=\\operatorname{Pr}\\left(x_{j} \\in T_{i}\\right) \\text { after the } i \\text { -th }} \\\\ {\\text { time step holds true. }}$\n",
        "\n",
        "> $ i = k : Pr(x_i \\in T_i) = \\frac{k}{i}$ \\\\\n",
        "Induction $ i \\to i+ 1 $"
      ]
    },
    {
      "cell_type": "markdown",
      "metadata": {
        "id": "Zyx_ARUNKwT6",
        "colab_type": "text"
      },
      "source": [
        "\n",
        "- Supposons que nos premiers éléments i ont été choisis avec probabilité $\\frac{k}{i}$\n",
        "- L'algorithme choisit le i + 1-ème élément avec probabilité $ \\frac{k}{i+1}$\n",
        "- Faut-il choisir cet élément, chaque élément de $T_i$ a une probabilité de $\\frac{1}{k}$ d'être remplacé\n",
        "- La probabilité qu'un élément de $T_i$ soit remplacé par le i + 1-ème élément est donc  $\\frac{1}{k}\\frac{k}{i+1}=\\frac{1}{i+1}$.\n",
        "- Ainsi, la probabilité qu'un élément ne soit pas remplacé est $ 1- \\frac{1}{i+1}=\\frac{i}{i+1}$\n",
        "- Donc $T_{i+1}$ contient n'importe quel élément donné parce qu'il a été choisi dans $T_{i}$ et non remplacé: $Pr(x \\in T_{i+1})= \\frac{k}{i}\\frac{i}{i+1}=\\frac{k}{i+1}$\n",
        "- Ou parce qu'il a été choisi au dernier tour avec probabilité $\\frac{k}{i+1}$\n",
        "\"\"\""
      ]
    }
  ]
}
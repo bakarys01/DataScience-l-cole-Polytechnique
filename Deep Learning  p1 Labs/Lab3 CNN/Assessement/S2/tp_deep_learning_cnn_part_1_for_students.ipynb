{
  "nbformat": 4,
  "nbformat_minor": 0,
  "metadata": {
    "kernelspec": {
      "display_name": "Python 3",
      "language": "python",
      "name": "python3"
    },
    "language_info": {
      "codemirror_mode": {
        "name": "ipython",
        "version": 3
      },
      "file_extension": ".py",
      "mimetype": "text/x-python",
      "name": "python",
      "nbconvert_exporter": "python",
      "pygments_lexer": "ipython3",
      "version": "3.7.4"
    },
    "colab": {
      "name": "tp_deep_learning_cnn_part_1_for_students.ipynb",
      "provenance": [],
      "collapsed_sections": []
    }
  },
  "cells": [
    {
      "cell_type": "markdown",
      "metadata": {
        "id": "wA4Oi098DLIE",
        "colab_type": "text"
      },
      "source": [
        "# TP Coding Convolutional Neural Networks in tensorflow and keras\n",
        "\n",
        "TP author : Geoffroy Peeters, Alasdair Newson\n",
        "\n",
        "### Objective:\n",
        "\n",
        "We want to implement a Convolutional Neural Network (CNN) to do image recognition. For this we will use the well-known CIFAR-10 dataset https://www.cs.toronto.edu/~kriz/cifar.html.\n",
        "\n",
        "The CIFAR-10 dataset consists of 60000 32x32 colour images in 10 classes, with 6000 images per class. There are 50000 training images and 10000 test images.\n",
        "\n",
        "We will first code the simple ConvNet described below using \n",
        "- tensorflow https://www.tensorflow.org\n",
        "\n",
        "then do the same using\n",
        "- keras : https://keras.io\n",
        "\n",
        "\n",
        "The input of the CNN is a set of (32,32,3) image tensors. We apply :\n",
        "\n",
        "    - a Convolutional layer of 32 filters of shape (3,3), with stride (1,1) and padding='same' (i.e. we do not apply zero-padding)\n",
        "    - a ReLu activation function\n",
        "    \n",
        "    - a Convolutional layer of 32 filters of shape (3,3), with stride (1,1) and padding='same' (i.e. we do not apply zero-padding)\n",
        "    - a ReLu activation function\n",
        "    - a Max Pooling Layer of shape (2,2) and stride (2,2) (i.e. we reduce by two the size in each dimension)\n",
        "    \n",
        "    - a Convolutional layer of 32 filters of shape (3,3), with stride (1,1) and padding='same' (i.e. we do not apply zero-padding)\n",
        "    - a ReLu activation function\n",
        "    - a Max Pooling Layer of shape (2,2) and stride (2,2) (i.e. we reduce by two the size in each dimension)\n",
        "    \n",
        "    - We then Flatten the data (reduce them to a vector in order to be able to apply a Fully-Connected layer to it)\n",
        "    - A softmax activation function which outputs are the $P(y_c | X)$ (multi-class problem)\n",
        "\n",
        "### Your task:\n",
        "You need to add the missing parts in the code (parts between # --- START CODE HERE and # --- END CODE HERE)"
      ]
    },
    {
      "cell_type": "markdown",
      "metadata": {
        "id": "FGhO4alaDLIH",
        "colab_type": "text"
      },
      "source": [
        "# Load packages"
      ]
    },
    {
      "cell_type": "code",
      "metadata": {
        "id": "MYhpwah-DLIJ",
        "colab_type": "code",
        "colab": {}
      },
      "source": [
        "%matplotlib inline\n",
        "import matplotlib.pyplot as plt\n",
        "import numpy as np\n"
      ],
      "execution_count": 0,
      "outputs": []
    },
    {
      "cell_type": "markdown",
      "metadata": {
        "id": "8jTQGpCEDLIO",
        "colab_type": "text"
      },
      "source": [
        "## Import data\n",
        "\n",
        "We first import CIFAR-10 dataset."
      ]
    },
    {
      "cell_type": "code",
      "metadata": {
        "id": "W5TAXIOoDLIQ",
        "colab_type": "code",
        "outputId": "866dc2e0-f690-4030-80b4-2f30adaf6ff6",
        "colab": {
          "base_uri": "https://localhost:8080/",
          "height": 130
        }
      },
      "source": [
        "from keras.utils.np_utils import to_categorical\n",
        "\n",
        "from keras.datasets import cifar10\n",
        "(X_train, y_train), (X_test, y_test) = cifar10.load_data()\n",
        "\n",
        "print(X_train.shape)\n",
        "print(X_test.shape)\n",
        "print(np.unique(y_train))"
      ],
      "execution_count": 0,
      "outputs": [
        {
          "output_type": "stream",
          "text": [
            "Using TensorFlow backend.\n"
          ],
          "name": "stderr"
        },
        {
          "output_type": "display_data",
          "data": {
            "text/html": [
              "<p style=\"color: red;\">\n",
              "The default version of TensorFlow in Colab will soon switch to TensorFlow 2.x.<br>\n",
              "We recommend you <a href=\"https://www.tensorflow.org/guide/migrate\" target=\"_blank\">upgrade</a> now \n",
              "or ensure your notebook will continue to use TensorFlow 1.x via the <code>%tensorflow_version 1.x</code> magic:\n",
              "<a href=\"https://colab.research.google.com/notebooks/tensorflow_version.ipynb\" target=\"_blank\">more info</a>.</p>\n"
            ],
            "text/plain": [
              "<IPython.core.display.HTML object>"
            ]
          },
          "metadata": {
            "tags": []
          }
        },
        {
          "output_type": "stream",
          "text": [
            "(50000, 32, 32, 3)\n",
            "(10000, 32, 32, 3)\n",
            "[0 1 2 3 4 5 6 7 8 9]\n"
          ],
          "name": "stdout"
        }
      ]
    },
    {
      "cell_type": "markdown",
      "metadata": {
        "id": "S7mpho9PDLIS",
        "colab_type": "text"
      },
      "source": [
        "The CIFAR-10 dataset has 10 classes. These are the following :"
      ]
    },
    {
      "cell_type": "code",
      "metadata": {
        "id": "-iHE41B5DLIT",
        "colab_type": "code",
        "colab": {}
      },
      "source": [
        "cifar_10_list = [ 'airplane', 'automobile','bird','cat','deer','dog','frog','horse','ship','truck']"
      ],
      "execution_count": 0,
      "outputs": []
    },
    {
      "cell_type": "markdown",
      "metadata": {
        "id": "-0ESfNyNDLIW",
        "colab_type": "text"
      },
      "source": [
        "### Display some of the images"
      ]
    },
    {
      "cell_type": "code",
      "metadata": {
        "id": "yl3kOdjlDLIX",
        "colab_type": "code",
        "outputId": "4a740fbd-656e-42a8-e94a-b30b4ae21405",
        "colab": {
          "base_uri": "https://localhost:8080/",
          "height": 338
        }
      },
      "source": [
        "plt.figure(figsize=(10, 6))\n",
        "for idx,i in enumerate(range(100,110)):\n",
        "    plt.subplot(2, 5, idx+1)\n",
        "    plt.imshow(X_train[i, :, :, :])\n",
        "    plt.title(cifar_10_list[int(y_train[i])])"
      ],
      "execution_count": 0,
      "outputs": [
        {
          "output_type": "display_data",
          "data": {
            "image/png": "[encoded data removed]",
            "text/plain": [
              "<Figure size 720x432 with 10 Axes>"
            ]
          },
          "metadata": {
            "tags": []
          }
        }
      ]
    },
    {
      "cell_type": "code",
      "metadata": {
        "id": "zpD7NJ79DLIZ",
        "colab_type": "code",
        "outputId": "0862f881-c66f-42e3-e952-4cf64b53e4bb",
        "colab": {
          "base_uri": "https://localhost:8080/",
          "height": 34
        }
      },
      "source": [
        "y_train.shape"
      ],
      "execution_count": 0,
      "outputs": [
        {
          "output_type": "execute_result",
          "data": {
            "text/plain": [
              "(50000, 1)"
            ]
          },
          "metadata": {
            "tags": []
          },
          "execution_count": 5
        }
      ]
    },
    {
      "cell_type": "markdown",
      "metadata": {
        "id": "0Z_rsqjqDLIb",
        "colab_type": "text"
      },
      "source": [
        "## Format conversion\n",
        "\n",
        "We now convert the format of the data. In the case of CNNs, and contrary to MLPs, the inputs are not simply vectors of arbitrary size. For example, in the case of images, it is important to distinguish the different dimensions (otherwise the network would not know how to carry out convolutions). Therefore, you need to carry out the following operation :\n",
        "\n",
        "- reshape the input ```X_train```and ```X_test``` to a set of matrices of size (32,32) and depth 3 (for the 3 R,G,B colors), convert the data to float32 and normalize them in the range [0,1]. The final dimensions of the image data should be : [batch_size, height, width, n_channels]\n",
        "\n",
        "Furthermore, as in the previous lab work, you must also convert the label vectors to matrices with k columns, where k is the number of classes. This allows us to carry out the cross-entropy for multi-class problems. Therefore :\n",
        "\n",
        "- convert the output label ```y_train``` and ```y_test``` to one-hot encoding format."
      ]
    },
    {
      "cell_type": "code",
      "metadata": {
        "id": "98O1w8SCDLIc",
        "colab_type": "code",
        "outputId": "332071cb-68f1-4b57-b9d8-381f89922365",
        "colab": {
          "base_uri": "https://localhost:8080/",
          "height": 118
        }
      },
      "source": [
        "# input image dimensions\n",
        "img_rows, img_cols, nb_channels = 32, 32, 3\n",
        "nb_classes = 10\n",
        "\n",
        "# In case depth is 1 (black and white pictures) -> reshape to proper format\n",
        "X_train = X_train.reshape(X_train.shape[0], img_rows, img_cols, nb_channels)\n",
        "X_test = X_test.reshape(X_test.shape[0], img_rows, img_cols, nb_channels)\n",
        "\n",
        "X_train = X_train.astype('float32')\n",
        "X_test = X_test.astype('float32')\n",
        "X_train /= 255\n",
        "X_test /= 255\n",
        "\n",
        "Y_train = to_categorical(y_train)\n",
        "Y_test = to_categorical(y_test)\n",
        "\n",
        "print('X_train shape:', X_train.shape)\n",
        "print('y_train shape:', y_train.shape)\n",
        "print('Y_train shape:', Y_train.shape)\n",
        "print('There is {} train data'.format(X_train.shape[0]))\n",
        "print('There is {} test data'.format(X_test.shape[0]))\n",
        "print(img_rows, img_cols, nb_channels)"
      ],
      "execution_count": 0,
      "outputs": [
        {
          "output_type": "stream",
          "text": [
            "X_train shape: (50000, 32, 32, 3)\n",
            "y_train shape: (50000, 1)\n",
            "Y_train shape: (50000, 10)\n",
            "There is 50000 train data\n",
            "There is 10000 test data\n",
            "32 32 3\n"
          ],
          "name": "stdout"
        }
      ]
    },
    {
      "cell_type": "markdown",
      "metadata": {
        "id": "xj4i8CixDLIe",
        "colab_type": "text"
      },
      "source": [
        "For memory and speed reasons, we are going to reduce the amount of training data :"
      ]
    },
    {
      "cell_type": "code",
      "metadata": {
        "id": "QY6iIeJQDLIf",
        "colab_type": "code",
        "outputId": "6f452eeb-f331-4b57-ef4b-4d840824308c",
        "colab": {
          "base_uri": "https://localhost:8080/",
          "height": 50
        }
      },
      "source": [
        "n_train_samples = 10000\n",
        "X_train = X_train[0:n_train_samples,:,:,:]\n",
        "Y_train = Y_train[0:n_train_samples,:]\n",
        "print(X_train.shape)\n",
        "print(Y_train.shape)"
      ],
      "execution_count": 0,
      "outputs": [
        {
          "output_type": "stream",
          "text": [
            "(10000, 32, 32, 3)\n",
            "(10000, 10)\n"
          ],
          "name": "stdout"
        }
      ]
    },
    {
      "cell_type": "markdown",
      "metadata": {
        "id": "t2h8joPcDLIi",
        "colab_type": "text"
      },
      "source": [
        "# 1. CNN with tensorflow\n",
        "\n",
        "We are now going to create a CNN with Tensorflow, and train it on the previously loaded CIFAR dataset.\n",
        "- First define the input and output using ```tf.placeholder```\n",
        "- Define the weights and biases of the CNN using ```tf.variable``` or ```tf.get_variable```\n",
        "    - You can initialize them using ```tf.contrib.layers.xavier_initializer```(see https://www.tensorflow.org/api_docs/python/tf/contrib/layers/xavier_initializer)\n",
        "- Perform the convolution using ```tf.nn.conv2d``` \n",
        "- Apply the activation function using ```tf.nn.relu```\n",
        "- Perform the max pooling using ```tf.nn.max_pool```\n",
        "- Flatten the output of the convolution using ```tf.contrib.layers.flatten```\n",
        "- Perform the Fully-Connected part using ```tf.contrib.layers.fully_connected```\n",
        "\n",
        "Also, note that in Tensorflow, you can carry out the softmax + cross entropy all in one step with the following function :\n",
        "\n",
        "- ```tf.nn.softmax_cross_entropy_with_logits()```\n",
        "\n",
        "This has the advantage of being optimised and stabilised by the programmers who wrote Tensorflow, so that you do not have numerical problems.\n",
        "\n",
        "$\\textbf{IMPORTANT NOTE}$ : Please note that this part in Tensorflow is just so that you have had some experience with CNNs in Tensorflow. So do not spend a lot of time trying to get great accuracy results. If you want to do this, do it in the Keras part."
      ]
    },
    {
      "cell_type": "code",
      "metadata": {
        "id": "78iBu_w2DLIi",
        "colab_type": "code",
        "colab": {}
      },
      "source": [
        "import tensorflow as tf\n",
        "\n",
        "learning_rate = 0.01\n",
        "n_epochs = 20\n",
        "batch_size = 64\n",
        "\n",
        "# number of convolutional filters to use\n",
        "nb_filters = 32\n",
        "# convolution kernel size\n",
        "kernel_size = (3, 3)\n",
        "# size of pooling area for max pooling\n",
        "pool_size = (2, 2)\n",
        "\n",
        "\n",
        "# --- Size of the successice layers\n",
        "n_h_0 = nb_channels\n",
        "n_h_1 = nb_filters\n",
        "n_h_2 = nb_filters\n",
        "n_h_3 = nb_filters"
      ],
      "execution_count": 0,
      "outputs": []
    },
    {
      "cell_type": "code",
      "metadata": {
        "id": "8Sy2E-tNDLIl",
        "colab_type": "code",
        "outputId": "a00b63d8-f62e-418e-f548-7513006b1f0b",
        "colab": {
          "base_uri": "https://localhost:8080/",
          "height": 406
        }
      },
      "source": [
        "tf.reset_default_graph()\n",
        "\n",
        "# input tensor are of shape [batch, in_height, in_width, in_channels]  \n",
        "# filter / kernel tensor are of shape [filter_height, filter_width, in_channels, out_channels]\n",
        "\n",
        "# --- START CODE HERE\n",
        "X_input = tf.placeholder(tf.float32, [None, img_rows, img_cols, n_h_0], name='x')\n",
        "Y_output = tf.placeholder(tf.float32, [None,nb_classes], name='y')\n",
        "W1 = tf.get_variable(\"W1\",shape=[3,3,3,32], initializer=tf.contrib.layers.xavier_initializer())\n",
        "b1 = tf.get_variable(name=\"b1\", shape=[32], initializer=tf.zeros_initializer())\n",
        "W2 = tf.get_variable(\"W2\",[3,3,32,32], initializer=tf.contrib.layers.xavier_initializer())\n",
        "b2 = tf.get_variable(name=\"b2\", shape=[32], initializer=tf.zeros_initializer())\n",
        "\n",
        "A1 = tf.nn.conv2d(X_input, W1, strides=[1,1,1,1],padding='VALID')\n",
        "Z1 = tf.nn.bias_add(A1,b1)\n",
        "Z1 = tf.nn.relu(Z1)\n",
        "\n",
        "A2 = tf.nn.conv2d(Z1, W2, strides=[1,1,1,1],padding='VALID')\n",
        "Z2 = tf.nn.bias_add(A2,b2)\n",
        "Z2 = tf.nn.relu(Z2)\n",
        "\n",
        "Z2=tf.nn.max_pool(Z2, ksize=[1,2,2,1], strides=[1, 2,2, 1], padding='VALID')\n",
        "Z2 = tf.contrib.layers.flatten(Z2)\n",
        "Z4 = tf.contrib.layers.fully_connected(Z2,10)\n",
        "\n",
        "\n",
        "# --- END CODE HERE\n",
        "\n",
        "cost = tf.reduce_mean(tf.nn.softmax_cross_entropy_with_logits(logits = Z4, labels = Y_output))\n",
        "optimizer = tf.train.AdamOptimizer(learning_rate = learning_rate).minimize(cost)"
      ],
      "execution_count": 0,
      "outputs": [
        {
          "output_type": "stream",
          "text": [
            "WARNING:tensorflow:\n",
            "The TensorFlow contrib module will not be included in TensorFlow 2.0.\n",
            "For more information, please see:\n",
            "  * https://github.com/tensorflow/community/blob/master/rfcs/20180907-contrib-sunset.md\n",
            "  * https://github.com/tensorflow/addons\n",
            "  * https://github.com/tensorflow/io (for I/O related ops)\n",
            "If you depend on functionality not listed there, please file an issue.\n",
            "\n",
            "WARNING:tensorflow:From /usr/local/lib/python3.6/dist-packages/tensorflow_core/contrib/layers/python/layers/layers.py:1634: flatten (from tensorflow.python.layers.core) is deprecated and will be removed in a future version.\n",
            "Instructions for updating:\n",
            "Use keras.layers.flatten instead.\n",
            "WARNING:tensorflow:From /usr/local/lib/python3.6/dist-packages/tensorflow_core/python/layers/core.py:332: Layer.apply (from tensorflow.python.keras.engine.base_layer) is deprecated and will be removed in a future version.\n",
            "Instructions for updating:\n",
            "Please use `layer.__call__` method instead.\n",
            "WARNING:tensorflow:From <ipython-input-9-e37239870bc6>:29: softmax_cross_entropy_with_logits (from tensorflow.python.ops.nn_ops) is deprecated and will be removed in a future version.\n",
            "Instructions for updating:\n",
            "\n",
            "Future major versions of TensorFlow will allow gradients to flow\n",
            "into the labels input on backprop by default.\n",
            "\n",
            "See `tf.nn.softmax_cross_entropy_with_logits_v2`.\n",
            "\n"
          ],
          "name": "stdout"
        }
      ]
    },
    {
      "cell_type": "markdown",
      "metadata": {
        "id": "3C0B25NpDLIn",
        "colab_type": "text"
      },
      "source": [
        "## Train the model"
      ]
    },
    {
      "cell_type": "code",
      "metadata": {
        "id": "F0079zGQDLIo",
        "colab_type": "code",
        "outputId": "307077aa-0314-4dff-89ec-088d2552b54f",
        "colab": {
          "base_uri": "https://localhost:8080/",
          "height": 682
        }
      },
      "source": [
        "init = tf.global_variables_initializer()\n",
        "n_batches = int(np.floor(X_train.shape[0] / float(batch_size)))\n",
        "costs = []\n",
        "\n",
        "with tf.Session() as sess:\n",
        "    sess.run(init)\n",
        "    \n",
        "    for epoch in range(n_epochs):\n",
        "        minibatch_cost = 0.\n",
        "        for batch_idx in range(n_batches):\n",
        "            # BEGIN CODE HERE\n",
        "            start = batch_idx * batch_size\n",
        "            stop = start + batch_size\n",
        "            _ , temp_cost = sess.run([optimizer, cost], feed_dict={X_input: X_train[start: stop,:,:,:], Y_output: Y_train[start: stop,:]})\n",
        "            # END CODE HERE\n",
        "            minibatch_cost += temp_cost / n_batches\n",
        "\n",
        "        if epoch % 1 == 0:\n",
        "            print (\"Cost after epoch %i: %f\" % (epoch, minibatch_cost))\n",
        "            \n",
        "        costs.append(minibatch_cost) \n",
        "        \n",
        "    plt.plot(np.squeeze(costs))\n",
        "    plt.ylabel('cost')\n",
        "    plt.xlabel('iterations (per tens)')\n",
        "    plt.title(\"Learning rate =\" + str(learning_rate))\n",
        "    plt.show()\n",
        "\n",
        "    # Calculate the correct predictions\n",
        "    predict_op = tf.argmax(Z4, 1)\n",
        "    correct_prediction = tf.equal(predict_op, tf.argmax(Y_output, 1))\n",
        "\n",
        "    # Calculate accuracy on the test set\n",
        "    accuracy = tf.reduce_mean(tf.cast(correct_prediction, \"float\"))\n",
        "    print(accuracy)\n",
        "    train_accuracy = accuracy.eval({X_input: X_train, Y_output: Y_train})\n",
        "    test_accuracy = accuracy.eval({X_input: X_test, Y_output: Y_test})\n",
        "    print(\"Train Accuracy:\", train_accuracy)\n",
        "    print(\"Test Accuracy:\", test_accuracy)\n",
        "    \n"
      ],
      "execution_count": 0,
      "outputs": [
        {
          "output_type": "stream",
          "text": [
            "Cost after epoch 0: 2.320965\n",
            "Cost after epoch 1: 2.302585\n",
            "Cost after epoch 2: 2.302585\n",
            "Cost after epoch 3: 2.302585\n",
            "Cost after epoch 4: 2.302585\n",
            "Cost after epoch 5: 2.302585\n",
            "Cost after epoch 6: 2.302585\n",
            "Cost after epoch 7: 2.302585\n",
            "Cost after epoch 8: 2.302585\n",
            "Cost after epoch 9: 2.302585\n",
            "Cost after epoch 10: 2.302585\n",
            "Cost after epoch 11: 2.302585\n",
            "Cost after epoch 12: 2.302585\n",
            "Cost after epoch 13: 2.302585\n",
            "Cost after epoch 14: 2.302585\n",
            "Cost after epoch 15: 2.302585\n",
            "Cost after epoch 16: 2.302585\n",
            "Cost after epoch 17: 2.302585\n",
            "Cost after epoch 18: 2.302585\n",
            "Cost after epoch 19: 2.302585\n"
          ],
          "name": "stdout"
        },
        {
          "output_type": "display_data",
          "data": {
            "image/png": "[encoded data removed]",
            "text/plain": [
              "<Figure size 432x288 with 1 Axes>"
            ]
          },
          "metadata": {
            "tags": []
          }
        },
        {
          "output_type": "stream",
          "text": [
            "Tensor(\"Mean_1:0\", shape=(), dtype=float32)\n",
            "Train Accuracy: 0.1005\n",
            "Test Accuracy: 0.1\n"
          ],
          "name": "stdout"
        }
      ]
    },
    {
      "cell_type": "markdown",
      "metadata": {
        "id": "I00NltMUDLIq",
        "colab_type": "text"
      },
      "source": [
        "The train accuracy after 20 epochs should be around 0.5. You do not have to push the training further than this, just make sure that the loss decreases and that the accuracy is reasonable. We will now create the same network in Keras."
      ]
    },
    {
      "cell_type": "markdown",
      "metadata": {
        "id": "7gUkPQM9DLIr",
        "colab_type": "text"
      },
      "source": [
        "# 2. CNN with keras"
      ]
    },
    {
      "cell_type": "markdown",
      "metadata": {
        "id": "fRRUW3duDLIs",
        "colab_type": "text"
      },
      "source": [
        "We are now going to create the same network with Keras. As we shall see, the interface is quite simplified in comparison to Tensorflow.\n",
        "\n",
        "## We first import keras packages"
      ]
    },
    {
      "cell_type": "code",
      "metadata": {
        "id": "ENoXxeQ1DLIs",
        "colab_type": "code",
        "outputId": "df2d7124-97f7-4eb9-a816-c98982b863fc",
        "colab": {
          "base_uri": "https://localhost:8080/",
          "height": 34
        }
      },
      "source": [
        "import keras\n",
        "from keras.models import Sequential, Model\n",
        "from keras.layers import Dense, Dropout, Activation, Flatten, Input\n",
        "from keras.layers import Conv2D, MaxPooling2D\n",
        "from keras import optimizers\n",
        "print(keras.__version__)"
      ],
      "execution_count": 0,
      "outputs": [
        {
          "output_type": "stream",
          "text": [
            "2.2.5\n"
          ],
          "name": "stdout"
        }
      ]
    },
    {
      "cell_type": "markdown",
      "metadata": {
        "id": "ZR1gL7t7DLIv",
        "colab_type": "text"
      },
      "source": [
        "## We define the parameters of the model, and of the training"
      ]
    },
    {
      "cell_type": "code",
      "metadata": {
        "id": "WFObVEM4DLIw",
        "colab_type": "code",
        "colab": {}
      },
      "source": [
        "input_shape = (img_rows, img_cols, nb_channels)"
      ],
      "execution_count": 0,
      "outputs": []
    },
    {
      "cell_type": "markdown",
      "metadata": {
        "id": "inD1gzgBDLIy",
        "colab_type": "text"
      },
      "source": [
        "## Creating the CNN model in Keras using the Sequential API\n",
        "\n",
        "Keras has a simple way of adding layers to create a neural network. First, you can indicate to Keras that the model is 'sequential', that is to say, a straight-forward CNN. For this, you can use the following function :\n",
        "- ```model = Sequential()```\n",
        "\n",
        "After this, you can add layers with the function.\n",
        "\n",
        "- ```model.add()```\n",
        "\n",
        "You can then use the ```Conv2D```, ```Activation```, ```MaxPooling2D```, ```Flatten``` and ```Dense``` (fully connected) functions to specify different layer types. Note that in the case of this approach, you will have to specify the input image size in the first layer of the network. So, for example, if the first layer is convolutional :\n",
        "\n",
        "- model = Sequential()\n",
        "- model.add(Conv2D(nb_filters, kernel_size, input_shape=input_shape, name='Conv1'))\n",
        "\n",
        "\n",
        "## Creating the CNN model in Keras using the standard API\n",
        "\n",
        "Otherwise, another approach to creating the model is to explicitly create the input variable, and just cascade the different functions, as in Tensorflow. So, for the same example, we would have :\n",
        "\n",
        "- input = Input(shape=(img_rows,img_cols,nb_channels))\n",
        "- output = Conv2D(input_shape=self.img_shape,filters=nb_filters,kernel_size=kernel_size)(input)\n",
        "- model = Model(input, output)\n",
        "\n",
        "Create your CNN now with the network parameters specified above."
      ]
    },
    {
      "cell_type": "code",
      "metadata": {
        "id": "l_rnhurcDLIz",
        "colab_type": "code",
        "outputId": "4416ae33-b7e5-4cd4-c0ef-3b18cebf7fc5",
        "colab": {
          "base_uri": "https://localhost:8080/",
          "height": 104
        }
      },
      "source": [
        "# --- START CODE HERE\n",
        "model = Sequential()\n",
        "model.add(Conv2D(nb_filters, kernel_size=kernel_size,strides = (1,1),padding = \"valid\", input_shape=input_shape))\n",
        "model.add(Activation('relu'))\n",
        "model.add(Conv2D(nb_filters, kernel_size=kernel_size,strides = (1,1),padding = \"valid\"))\n",
        "model.add(Activation('relu'))\n",
        "model.add(MaxPooling2D(pool_size=(2, 2)))\n",
        "model.add(Flatten()) \n",
        "model.add(Dense(nb_classes,activation=tf.nn.softmax)) \n",
        "# --- END CODE HERE"
      ],
      "execution_count": 0,
      "outputs": [
        {
          "output_type": "stream",
          "text": [
            "WARNING:tensorflow:From /usr/local/lib/python3.6/dist-packages/keras/backend/tensorflow_backend.py:66: The name tf.get_default_graph is deprecated. Please use tf.compat.v1.get_default_graph instead.\n",
            "\n",
            "WARNING:tensorflow:From /usr/local/lib/python3.6/dist-packages/keras/backend/tensorflow_backend.py:4432: The name tf.random_uniform is deprecated. Please use tf.random.uniform instead.\n",
            "\n"
          ],
          "name": "stdout"
        }
      ]
    },
    {
      "cell_type": "markdown",
      "metadata": {
        "id": "bkqXYZ59DLI1",
        "colab_type": "text"
      },
      "source": [
        "## Compile the model\n",
        "\n",
        "We define here the ```loss``` that we will minimize and the ```optimizer``` (the specific algorithm used to perform gradient descent)."
      ]
    },
    {
      "cell_type": "code",
      "metadata": {
        "id": "cGcO1skrDLI2",
        "colab_type": "code",
        "outputId": "96e7fa75-fa86-431d-cc9f-09a70f1a1b74",
        "colab": {
          "base_uri": "https://localhost:8080/",
          "height": 84
        }
      },
      "source": [
        "model.compile(loss='categorical_crossentropy',\n",
        "              optimizer=optimizers.Adam(lr=learning_rate),\n",
        "              metrics=['accuracy'])"
      ],
      "execution_count": 0,
      "outputs": [
        {
          "output_type": "stream",
          "text": [
            "WARNING:tensorflow:From /usr/local/lib/python3.6/dist-packages/keras/optimizers.py:793: The name tf.train.Optimizer is deprecated. Please use tf.compat.v1.train.Optimizer instead.\n",
            "\n",
            "WARNING:tensorflow:From /usr/local/lib/python3.6/dist-packages/keras/backend/tensorflow_backend.py:3576: The name tf.log is deprecated. Please use tf.math.log instead.\n",
            "\n"
          ],
          "name": "stdout"
        }
      ]
    },
    {
      "cell_type": "markdown",
      "metadata": {
        "id": "vkMx3G2sDLI4",
        "colab_type": "text"
      },
      "source": [
        "## We display a summary of the model created (but not yet trained)"
      ]
    },
    {
      "cell_type": "code",
      "metadata": {
        "id": "8709MO1FDLI5",
        "colab_type": "code",
        "outputId": "a4abc8bd-258e-4d62-bded-c1463e933545",
        "colab": {
          "base_uri": "https://localhost:8080/",
          "height": 386
        }
      },
      "source": [
        "model.summary()"
      ],
      "execution_count": 0,
      "outputs": [
        {
          "output_type": "stream",
          "text": [
            "Model: \"sequential_1\"\n",
            "_________________________________________________________________\n",
            "Layer (type)                 Output Shape              Param #   \n",
            "=================================================================\n",
            "conv2d_1 (Conv2D)            (None, 30, 30, 32)        896       \n",
            "_________________________________________________________________\n",
            "activation_1 (Activation)    (None, 30, 30, 32)        0         \n",
            "_________________________________________________________________\n",
            "conv2d_2 (Conv2D)            (None, 28, 28, 32)        9248      \n",
            "_________________________________________________________________\n",
            "activation_2 (Activation)    (None, 28, 28, 32)        0         \n",
            "_________________________________________________________________\n",
            "max_pooling2d_1 (MaxPooling2 (None, 14, 14, 32)        0         \n",
            "_________________________________________________________________\n",
            "flatten_1 (Flatten)          (None, 6272)              0         \n",
            "_________________________________________________________________\n",
            "dense_1 (Dense)              (None, 10)                62730     \n",
            "=================================================================\n",
            "Total params: 72,874\n",
            "Trainable params: 72,874\n",
            "Non-trainable params: 0\n",
            "_________________________________________________________________\n"
          ],
          "name": "stdout"
        }
      ]
    },
    {
      "cell_type": "markdown",
      "metadata": {
        "id": "mr_BzCDcDLI7",
        "colab_type": "text"
      },
      "source": [
        "## Perform the training"
      ]
    },
    {
      "cell_type": "code",
      "metadata": {
        "id": "4SKLdXPMDLI8",
        "colab_type": "code",
        "outputId": "867cbf05-36a6-4477-ffd4-9c550f05b5e3",
        "colab": {
          "base_uri": "https://localhost:8080/",
          "height": 1000
        }
      },
      "source": [
        "model.fit(X_train, Y_train,\n",
        "          batch_size=batch_size, \n",
        "          nb_epoch=n_epochs,\n",
        "          verbose=1, \n",
        "          validation_data=(X_test, Y_test))"
      ],
      "execution_count": 0,
      "outputs": [
        {
          "output_type": "stream",
          "text": [
            "WARNING:tensorflow:From /usr/local/lib/python3.6/dist-packages/tensorflow_core/python/ops/math_grad.py:1424: where (from tensorflow.python.ops.array_ops) is deprecated and will be removed in a future version.\n",
            "Instructions for updating:\n",
            "Use tf.where in 2.0, which has the same broadcast rule as np.where\n",
            "WARNING:tensorflow:From /usr/local/lib/python3.6/dist-packages/keras/backend/tensorflow_backend.py:1033: The name tf.assign_add is deprecated. Please use tf.compat.v1.assign_add instead.\n",
            "\n"
          ],
          "name": "stdout"
        },
        {
          "output_type": "stream",
          "text": [
            "/usr/local/lib/python3.6/dist-packages/ipykernel_launcher.py:5: UserWarning: The `nb_epoch` argument in `fit` has been renamed `epochs`.\n",
            "  \"\"\"\n"
          ],
          "name": "stderr"
        },
        {
          "output_type": "stream",
          "text": [
            "WARNING:tensorflow:From /usr/local/lib/python3.6/dist-packages/keras/backend/tensorflow_backend.py:1020: The name tf.assign is deprecated. Please use tf.compat.v1.assign instead.\n",
            "\n",
            "Train on 10000 samples, validate on 10000 samples\n",
            "Epoch 1/20\n",
            "WARNING:tensorflow:From /usr/local/lib/python3.6/dist-packages/keras/backend/tensorflow_backend.py:190: The name tf.get_default_session is deprecated. Please use tf.compat.v1.get_default_session instead.\n",
            "\n",
            "WARNING:tensorflow:From /usr/local/lib/python3.6/dist-packages/keras/backend/tensorflow_backend.py:197: The name tf.ConfigProto is deprecated. Please use tf.compat.v1.ConfigProto instead.\n",
            "\n",
            "WARNING:tensorflow:From /usr/local/lib/python3.6/dist-packages/keras/backend/tensorflow_backend.py:207: The name tf.global_variables is deprecated. Please use tf.compat.v1.global_variables instead.\n",
            "\n",
            "WARNING:tensorflow:From /usr/local/lib/python3.6/dist-packages/keras/backend/tensorflow_backend.py:216: The name tf.is_variable_initialized is deprecated. Please use tf.compat.v1.is_variable_initialized instead.\n",
            "\n",
            "WARNING:tensorflow:From /usr/local/lib/python3.6/dist-packages/keras/backend/tensorflow_backend.py:223: The name tf.variables_initializer is deprecated. Please use tf.compat.v1.variables_initializer instead.\n",
            "\n",
            "10000/10000 [==============================] - 27s 3ms/step - loss: 2.3306 - acc: 0.1052 - val_loss: 2.3035 - val_acc: 0.1000\n",
            "Epoch 2/20\n",
            "10000/10000 [==============================] - 26s 3ms/step - loss: 2.3032 - acc: 0.1009 - val_loss: 2.3027 - val_acc: 0.1000\n",
            "Epoch 3/20\n",
            "10000/10000 [==============================] - 27s 3ms/step - loss: 2.3032 - acc: 0.0994 - val_loss: 2.3036 - val_acc: 0.1000\n",
            "Epoch 4/20\n",
            "10000/10000 [==============================] - 26s 3ms/step - loss: 2.3035 - acc: 0.0987 - val_loss: 2.3038 - val_acc: 0.1000\n",
            "Epoch 5/20\n",
            "10000/10000 [==============================] - 27s 3ms/step - loss: 2.3032 - acc: 0.1019 - val_loss: 2.3038 - val_acc: 0.1000\n",
            "Epoch 6/20\n",
            "10000/10000 [==============================] - 27s 3ms/step - loss: 2.3036 - acc: 0.1028 - val_loss: 2.3038 - val_acc: 0.1000\n",
            "Epoch 7/20\n",
            "10000/10000 [==============================] - 27s 3ms/step - loss: 2.3034 - acc: 0.0990 - val_loss: 2.3035 - val_acc: 0.1000\n",
            "Epoch 8/20\n",
            "10000/10000 [==============================] - 27s 3ms/step - loss: 2.3034 - acc: 0.0954 - val_loss: 2.3042 - val_acc: 0.1000\n",
            "Epoch 9/20\n",
            "10000/10000 [==============================] - 27s 3ms/step - loss: 2.3036 - acc: 0.1026 - val_loss: 2.3030 - val_acc: 0.1000\n",
            "Epoch 10/20\n",
            "10000/10000 [==============================] - 27s 3ms/step - loss: 2.3036 - acc: 0.1006 - val_loss: 2.3032 - val_acc: 0.1000\n",
            "Epoch 11/20\n",
            "10000/10000 [==============================] - 27s 3ms/step - loss: 2.3034 - acc: 0.1021 - val_loss: 2.3031 - val_acc: 0.1000\n",
            "Epoch 12/20\n",
            "10000/10000 [==============================] - 26s 3ms/step - loss: 2.3035 - acc: 0.0968 - val_loss: 2.3034 - val_acc: 0.1000\n",
            "Epoch 13/20\n",
            "10000/10000 [==============================] - 27s 3ms/step - loss: 2.3031 - acc: 0.1015 - val_loss: 2.3042 - val_acc: 0.1000\n",
            "Epoch 14/20\n",
            "10000/10000 [==============================] - 27s 3ms/step - loss: 2.3038 - acc: 0.0990 - val_loss: 2.3033 - val_acc: 0.1000\n",
            "Epoch 15/20\n",
            "10000/10000 [==============================] - 29s 3ms/step - loss: 2.3033 - acc: 0.0975 - val_loss: 2.3035 - val_acc: 0.1000\n",
            "Epoch 16/20\n",
            "10000/10000 [==============================] - 27s 3ms/step - loss: 2.3036 - acc: 0.0987 - val_loss: 2.3039 - val_acc: 0.1000\n",
            "Epoch 17/20\n",
            "10000/10000 [==============================] - 28s 3ms/step - loss: 2.3030 - acc: 0.1037 - val_loss: 2.3037 - val_acc: 0.1000\n",
            "Epoch 18/20\n",
            "10000/10000 [==============================] - 27s 3ms/step - loss: 2.3030 - acc: 0.1063 - val_loss: 2.3042 - val_acc: 0.1000\n",
            "Epoch 19/20\n",
            "10000/10000 [==============================] - 27s 3ms/step - loss: 2.3037 - acc: 0.0966 - val_loss: 2.3036 - val_acc: 0.1000\n",
            "Epoch 20/20\n",
            "10000/10000 [==============================] - 27s 3ms/step - loss: 2.3036 - acc: 0.0954 - val_loss: 2.3033 - val_acc: 0.1000\n"
          ],
          "name": "stdout"
        },
        {
          "output_type": "execute_result",
          "data": {
            "text/plain": [
              "<keras.callbacks.History at 0x7f89d3266b00>"
            ]
          },
          "metadata": {
            "tags": []
          },
          "execution_count": 16
        }
      ]
    },
    {
      "cell_type": "markdown",
      "metadata": {
        "id": "gQlama3UDLI_",
        "colab_type": "text"
      },
      "source": [
        "## We evaluate the performances of the model on the test data"
      ]
    },
    {
      "cell_type": "code",
      "metadata": {
        "id": "znYkZm1bDLJA",
        "colab_type": "code",
        "outputId": "91d9c50b-a7cd-468f-a5d8-6f1498c394ca",
        "colab": {
          "base_uri": "https://localhost:8080/",
          "height": 50
        }
      },
      "source": [
        "score = model.evaluate(X_test, Y_test, verbose=False)\n",
        "print('Test score:', score[0])\n",
        "print('Test accuracy:', score[1])"
      ],
      "execution_count": 0,
      "outputs": [
        {
          "output_type": "stream",
          "text": [
            "Test score: 2.303313338470459\n",
            "Test accuracy: 0.1\n"
          ],
          "name": "stdout"
        }
      ]
    },
    {
      "cell_type": "markdown",
      "metadata": {
        "id": "s0c1dZDyDLJC",
        "colab_type": "text"
      },
      "source": [
        "Let's take a look at what the network has learned. What do you think ?"
      ]
    },
    {
      "cell_type": "code",
      "metadata": {
        "id": "oSgvysakDLJD",
        "colab_type": "code",
        "outputId": "8559041b-4b1a-4081-f87a-e8504e95e6d0",
        "colab": {
          "base_uri": "https://localhost:8080/",
          "height": 338
        }
      },
      "source": [
        "plt.figure(figsize=(10, 6))\n",
        "for idx,i in enumerate(range(100,110)):\n",
        "    plt.subplot(2, 5, idx+1)\n",
        "    rand_ind = np.random.randint(0,X_test.shape[0])\n",
        "    predicted_class = np.argmax(np.squeeze(model.predict(np.expand_dims(X_test[rand_ind,:,:,:],axis=0))))\n",
        "    plt.imshow(X_test[rand_ind,:,:,:])\n",
        "    plt.title(cifar_10_list[int(predicted_class)])"
      ],
      "execution_count": 0,
      "outputs": [
        {
          "output_type": "display_data",
          "data": {
            "image/png": "[encoded data removed]",
            "text/plain": [
              "<Figure size 720x432 with 10 Axes>"
            ]
          },
          "metadata": {
            "tags": []
          }
        }
      ]
    },
    {
      "cell_type": "markdown",
      "metadata": {
        "id": "hxCuVE_8DLJF",
        "colab_type": "text"
      },
      "source": [
        "## Now, display all (32) trained filters of the first layer\n",
        "\n",
        "You can explore the network parameters easily with Keras. For example ```model.layers``` is a list of the layers of the network. Each element of the network contains the information necessary for this layer. To show the content of a layer i, type :\n",
        "\n",
        "```dir(model.layers[i])```\n",
        "\n",
        "Display all (32) trained filters of the first layer :"
      ]
    },
    {
      "cell_type": "code",
      "metadata": {
        "id": "0G4Al82gDLJF",
        "colab_type": "code",
        "outputId": "8039330a-33cb-41a2-b092-a157903e4746",
        "colab": {
          "base_uri": "https://localhost:8080/",
          "height": 425
        }
      },
      "source": [
        "print(model.layers[0].filters)\n",
        "print(model.layers[0].kernel_size)\n",
        "print(model.layers[0].get_weights()[0].shape)\n",
        "plt.figure(figsize=(10, 6))\n",
        "for num in range(0,32):\n",
        "    plt.subplot(8, 4, num+1)\n",
        "    # --- START CODE HERE\n",
        "    plt.imshow(model.layers[0].get_weights()[0][:,:,:,num][:,:,0])\n",
        "    # --- END CODE HERE    "
      ],
      "execution_count": 0,
      "outputs": [
        {
          "output_type": "stream",
          "text": [
            "32\n",
            "(3, 3)\n",
            "(3, 3, 3, 32)\n"
          ],
          "name": "stdout"
        },
        {
          "output_type": "display_data",
          "data": {
            "image/png": "[encoded data removed]",
            "text/plain": [
              "<Figure size 720x432 with 32 Axes>"
            ]
          },
          "metadata": {
            "tags": []
          }
        }
      ]
    },
    {
      "cell_type": "markdown",
      "metadata": {
        "id": "RbklFdffDLJH",
        "colab_type": "text"
      },
      "source": [
        "# Evaluation\n",
        "\n",
        "To evaluate the work, you should rate the code for \n",
        "- 1) Tensorflow, declaration of inputs and weights : 2 points\n",
        "- 2) Tensorflow, declaration of model : 2 points\n",
        "- 3) Tensorflow, training : 2 points\n",
        "- 4) Keras : model : 2 points\n",
        "- 5) Keras : displaying weights : 2 points\n",
        "\n",
        "Each correct answer (correct formula/code and code runs) gives 2 points. Total over 10 points."
      ]
    }
  ]
}
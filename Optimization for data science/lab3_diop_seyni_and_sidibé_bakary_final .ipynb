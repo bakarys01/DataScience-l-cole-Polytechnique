{
  "nbformat": 4,
  "nbformat_minor": 0,
  "metadata": {
    "anaconda-cloud": {},
    "kernelspec": {
      "name": "python3",
      "display_name": "Python 3"
    },
    "language_info": {
      "codemirror_mode": {
        "name": "ipython",
        "version": 3
      },
      "file_extension": ".py",
      "mimetype": "text/x-python",
      "name": "python",
      "nbconvert_exporter": "python",
      "pygments_lexer": "ipython3",
      "version": "3.7.3"
    },
    "toc": {
      "base_numbering": 1,
      "nav_menu": {},
      "number_sections": true,
      "sideBar": true,
      "skip_h1_title": false,
      "title_cell": "Table of Contents",
      "title_sidebar": "Contents",
      "toc_cell": false,
      "toc_position": {},
      "toc_section_display": true,
      "toc_window_display": false
    },
    "varInspector": {
      "cols": {
        "lenName": 16,
        "lenType": 16,
        "lenVar": 40
      },
      "kernels_config": {
        "python": {
          "delete_cmd_postfix": "",
          "delete_cmd_prefix": "del ",
          "library": "var_list.py",
          "varRefreshCmd": "print(var_dic_list())"
        },
        "r": {
          "delete_cmd_postfix": ") ",
          "delete_cmd_prefix": "rm(",
          "library": "var_list.r",
          "varRefreshCmd": "cat(var_dic_list()) "
        }
      },
      "types_to_exclude": [
        "module",
        "function",
        "builtin_function_or_method",
        "instance",
        "_Feature"
      ],
      "window_display": false
    },
    "colab": {
      "name": "lab3_diop_seyni_and_sidibé_bakary_final.ipynb",
      "provenance": [],
      "collapsed_sections": []
    },
    "accelerator": "GPU"
  },
  "cells": [
    {
      "cell_type": "markdown",
      "metadata": {
        "id": "ca7tDha8rZUb",
        "colab_type": "text"
      },
      "source": [
        "# Short Lab 3 : Proximal/cyclic/greedy coordinate descent\n",
        "\n",
        "#### Authors: A. Gramfort, M. Massias, P. Ablin\n",
        "\n",
        "## Aim\n",
        "\n",
        "The aim of this material is to code \n",
        "- cyclic and greedy coordinate descent for ordinary least squares (OLS)\n",
        "- proximal coordinate descent for sparse Logistic regression\n",
        "\n",
        "## VERY IMPORTANT\n",
        "\n",
        "- This work **must be done by pairs of students**.\n",
        "- **Each** student must send their work **before the 1st of december at 23:59**, using the **moodle platform**.\n",
        "- This means that **each student in the pair sends the same file**\n",
        "- On the moodle, in the \"Optimization for Data Science\" course, you have a \"devoir\" section called **Rendu TP du 5 novembre 2018**. This is where you submit your jupyter notebook file. \n",
        "- The **name of the file must be** constructed as in the next cell\n",
        "\n",
        "# Gentle reminder: no evaluation if you don't respect this EXACTLY\n",
        "\n",
        "### How to construct the name of your file"
      ]
    },
    {
      "cell_type": "code",
      "metadata": {
        "ExecuteTime": {
          "end_time": "2019-11-27T12:34:14.427266Z",
          "start_time": "2019-11-27T12:34:14.422271Z"
        },
        "id": "_ZLlbOHPrZUe",
        "colab_type": "code",
        "outputId": "36aa881a-c82c-40ad-e2ef-486ed3832620",
        "colab": {
          "base_uri": "https://localhost:8080/",
          "height": 34
        }
      },
      "source": [
        "# Change here using YOUR first and last names\n",
        "fn1 = \"seyni\"\n",
        "ln1 = \"diop\"\n",
        "fn2 = \"bakary\"\n",
        "ln2 = \"sidibé\"\n",
        "\n",
        "filename = \"_\".join(map(lambda s: s.strip().lower(), \n",
        "                        [\"lab3\", ln1, fn1, \"and\", ln2, fn2])) + \".ipynb\"\n",
        "print(filename)"
      ],
      "execution_count": 2,
      "outputs": [
        {
          "output_type": "stream",
          "text": [
            "lab3_diop_seyni_and_sidibé_bakary.ipynb\n"
          ],
          "name": "stdout"
        }
      ]
    },
    {
      "cell_type": "code",
      "metadata": {
        "ExecuteTime": {
          "end_time": "2019-11-27T12:34:14.668140Z",
          "start_time": "2019-11-27T12:34:14.446256Z"
        },
        "id": "vaguZvjorZUj",
        "colab_type": "code",
        "colab": {}
      },
      "source": [
        "import numpy as np\n",
        "from numpy.linalg import norm\n",
        "import matplotlib.pyplot as plt"
      ],
      "execution_count": 0,
      "outputs": []
    },
    {
      "cell_type": "code",
      "metadata": {
        "ExecuteTime": {
          "end_time": "2019-11-27T12:34:16.173365Z",
          "start_time": "2019-11-27T12:34:16.166356Z"
        },
        "id": "0twIae4prZUm",
        "colab_type": "code",
        "colab": {}
      },
      "source": [
        "# the usual functions:\n",
        "\n",
        "from numpy.random import multivariate_normal\n",
        "from scipy.linalg.special_matrices import toeplitz\n",
        "from numpy.random import randn\n",
        "\n",
        "\n",
        "def simu(coefs, n_samples=1000, corr=0.5, for_logreg=False):\n",
        "    n_features = len(coefs)\n",
        "    cov = toeplitz(corr ** np.arange(0, n_features))\n",
        "    A = multivariate_normal(np.zeros(n_features), cov, size=n_samples)\n",
        "    b = A.dot(coefs) + randn(n_samples)\n",
        "    if for_logreg:\n",
        "        b = np.sign(b)\n",
        "    return A, b"
      ],
      "execution_count": 0,
      "outputs": []
    },
    {
      "cell_type": "markdown",
      "metadata": {
        "id": "totDkAFgrZUp",
        "colab_type": "text"
      },
      "source": [
        "## Part 1: Ordinary Least Squares\n",
        "\n",
        "\n",
        "Let $A \\in \\mathbb{R}^{n \\times p}$, $y \\in \\mathbb{R}^n$.\n",
        "We want to use coordinate descent to solve:\n",
        "    $$\\hat w \\in  \\mathrm{arg \\, min \\,} \\frac 12 \\Vert Aw - b \\Vert ^2 $$\n",
        "\n",
        "We ask you to code:\n",
        "- cyclic coordinate descent: at iteration $t$, update feature $j = t \\mod p$\n",
        "- greedy coordinate descent: at iteration $t$, update feature having the largest partial gradient in magnitude, ie $j = \\mathrm{arg\\, max \\,}_{i} \\vert \\nabla_i f(w_t) \\vert$.\n",
        "\n",
        "\n",
        "**WARNING**: You must do this in a clever way, ie such that $p$ updates cost the same as one update of GD."
      ]
    },
    {
      "cell_type": "code",
      "metadata": {
        "ExecuteTime": {
          "end_time": "2019-11-27T12:34:18.251324Z",
          "start_time": "2019-11-27T12:34:18.238337Z"
        },
        "id": "8E5iyUPqrZUp",
        "colab_type": "code",
        "colab": {}
      },
      "source": [
        "n_features = 100\n",
        "np.random.seed(1970)\n",
        "coefs = np.random.randn(n_features)\n",
        "\n",
        "A, b = simu(coefs, n_samples=1000, for_logreg=False)"
      ],
      "execution_count": 0,
      "outputs": []
    },
    {
      "cell_type": "code",
      "metadata": {
        "ExecuteTime": {
          "end_time": "2019-11-27T12:34:18.592282Z",
          "start_time": "2019-11-27T12:34:18.589269Z"
        },
        "id": "9lCJqlfRrZUs",
        "colab_type": "code",
        "colab": {}
      },
      "source": [
        "lips_const = np.linalg.norm(A, axis=0) ** 2"
      ],
      "execution_count": 0,
      "outputs": []
    },
    {
      "cell_type": "code",
      "metadata": {
        "ExecuteTime": {
          "end_time": "2019-11-27T12:54:13.962191Z",
          "start_time": "2019-11-27T12:54:13.950194Z"
        },
        "id": "2VTeCWbWrZUv",
        "colab_type": "code",
        "colab": {}
      },
      "source": [
        "def cyclic_cd(A, b, n_iter):\n",
        "    n_samples, n_features = A.shape\n",
        "    all_objs = []\n",
        "    \n",
        "    w = np.zeros(n_features)\n",
        "    residuals = b - A.dot(w)\n",
        "    \n",
        "    # TODO\n",
        "    lips_const = np.linalg.norm(A, axis=0) ** 2\n",
        "    # END TODO\n",
        "    \n",
        "    for t in range(n_iter):\n",
        "        j = t % n_features\n",
        "        # TODO\n",
        "        old_w_j = w[j]\n",
        "        w[j] += 1/lips_const[j] * A[:,j].T@residuals\n",
        "        # update residuals:\n",
        "        residuals = b - A.dot(w)\n",
        "        # END TODO\n",
        "        \n",
        "        if t % n_features == 0:\n",
        "            all_objs.append((residuals ** 2).sum() / 2.)\n",
        "    return w, np.array(all_objs)\n",
        "\n",
        "\n",
        "\n",
        "def greedy_cd(A, b, n_iter):\n",
        "    n_samples, n_features = A.shape\n",
        "    all_objs = []\n",
        "    \n",
        "    w = np.zeros(n_features)\n",
        "    \n",
        "    gradient = A.T.dot(A.dot(w) - b)\n",
        "    gram = A.T.dot(A)  # you will need this to keep the gradient up to date\n",
        "    \n",
        "    # TODO\n",
        "    residuals = b - A.dot(w)\n",
        "    lips_const = np.linalg.norm(A, axis=0) ** 2\n",
        "    # END TODO \n",
        "    \n",
        "    for t in range(n_iter):\n",
        "        # TODO\n",
        "        # choose feature j to update: \n",
        "        j = np.argmax(np.abs(gradient))\n",
        "        old_w_j = w[j]\n",
        "        w[j] += 1/lips_const[j] * A[:,j].T@residuals\n",
        "        # update gradient:\n",
        "        #gradient = A.T.dot(A.dot(w) - b)\n",
        "        gradient += gram[:,j]*(w[j]- old_w_j)\n",
        "        residuals = b - A.dot(w)\n",
        "        # END TODO\n",
        "        \n",
        "        if t % n_features == 0:\n",
        "            all_objs.append(0.5 * np.linalg.norm(A.dot(w) - b) ** 2)\n",
        "    \n",
        "    return w, np.array(all_objs)"
      ],
      "execution_count": 0,
      "outputs": []
    },
    {
      "cell_type": "markdown",
      "metadata": {
        "id": "QA5s0Ne3rZUy",
        "colab_type": "text"
      },
      "source": [
        "- compute a precise minimum with your favorite solver\n",
        "- compare the performance of cyclic and greedy CD\n",
        "\n",
        "- from a practical point of view, could you use greedy CD for ridge logistic regression? to solve OLS, but with 100,000 features? Explain your answers."
      ]
    },
    {
      "cell_type": "markdown",
      "metadata": {
        "id": "ZF4Z_-4scp1e",
        "colab_type": "text"
      },
      "source": [
        "## Answers"
      ]
    },
    {
      "cell_type": "markdown",
      "metadata": {
        "id": "oRFCDqZgcUB5",
        "colab_type": "text"
      },
      "source": [
        "- <font color='blue'>compute a precise minimum with your favorite solver</font>"
      ]
    },
    {
      "cell_type": "code",
      "metadata": {
        "id": "QKMd2kdqn8zV",
        "colab_type": "code",
        "colab": {}
      },
      "source": [
        "def grad_linreg(x, A, b):\n",
        "    \"\"\"Full gradient\"\"\"\n",
        "    g = A.T@(A.dot(x)-b)\n",
        "    return g\n",
        "\n",
        "def loss_linreg(x, A, b):\n",
        "    n, _ = A.shape\n",
        "    return norm(A.dot(x) - b) ** 2 / 2\n"
      ],
      "execution_count": 0,
      "outputs": []
    },
    {
      "cell_type": "code",
      "metadata": {
        "id": "HFuBswUWmG2f",
        "colab_type": "code",
        "colab": {}
      },
      "source": [
        "from scipy.optimize import fmin_l_bfgs_b, fmin_cg\n",
        "\n",
        "A, b = simu(coefs, n_samples = 2000, for_logreg = False)\n",
        "w0 = np.zeros(n_features)\n",
        "w_min, f_min, _ = fmin_l_bfgs_b(loss_linreg, w0, grad_linreg, args=(A,b), pgtol=1e-30, factr=1e-30)"
      ],
      "execution_count": 0,
      "outputs": []
    },
    {
      "cell_type": "markdown",
      "metadata": {
        "id": "Mwc7DUUZde21",
        "colab_type": "text"
      },
      "source": [
        "- <font color='blue'> compare the performance of cyclic and greedy CD </font>"
      ]
    },
    {
      "cell_type": "code",
      "metadata": {
        "id": "vTcs085EvZ9k",
        "colab_type": "code",
        "colab": {}
      },
      "source": [
        "import time\n",
        "\n",
        "debut = time.time()\n",
        "w_cyclic, o_cyclic = cyclic_cd(A, b, 2000)\n",
        "\n",
        "fin = time.time()\n",
        "time_cyclic = fin - debut\n",
        "\n",
        "debut = time.time()\n",
        "w_greedy, o_greedy = greedy_cd(A, b, 2000)\n",
        "fin = time.time()\n",
        "time_greedy = fin - debut\n"
      ],
      "execution_count": 0,
      "outputs": []
    },
    {
      "cell_type": "code",
      "metadata": {
        "id": "xD6FcSTWzHhm",
        "colab_type": "code",
        "outputId": "fdc64718-da0f-4352-d8d0-892216e8012a",
        "colab": {
          "base_uri": "https://localhost:8080/",
          "height": 458
        }
      },
      "source": [
        "\n",
        "fig = plt.figure(1, figsize=(20, 7))\n",
        "plt.subplot(1,2,1)\n",
        "\n",
        "plt.semilogy(np.linspace(0, time_cyclic, len(o_cyclic)), o_cyclic, 'r', label='cyclic')\n",
        "plt.semilogy(np.linspace(0, time_greedy, len(o_greedy)), o_greedy, 'b', label='greedy')\n",
        "plt.title('Loss')\n",
        "plt.xlabel('Timing')\n",
        "plt.ylabel('$f(x_k) - f(x^*)$')\n",
        "plt.legend()\n",
        "\n",
        "plt.subplot(1,2,2)\n",
        "\n",
        "plt.semilogy(o_cyclic - f_min, 'r', label='cyclic')\n",
        "plt.semilogy(o_greedy - f_min, 'b', label='greedy')\n",
        "plt.title('Comparison in term of distance')\n",
        "plt.xlabel('Epoch')\n",
        "plt.ylabel('$f(x_k) - f(x^*)$')\n",
        "plt.legend()\n",
        "plt.show()"
      ],
      "execution_count": 11,
      "outputs": [
        {
          "output_type": "display_data",
          "data": {
            "image/png": "[encoded data removed]",
            "text/plain": [
              "<Figure size 1440x504 with 2 Axes>"
            ]
          },
          "metadata": {
            "tags": []
          }
        }
      ]
    },
    {
      "cell_type": "markdown",
      "metadata": {
        "id": "1k8R8ja61mNL",
        "colab_type": "text"
      },
      "source": [
        "- <font color='blue'>from a practical point of view, could you use greedy CD for ridge logistic regression ? to solve OLS, but with 100,000 features? Explain your answers.\n",
        "</font>"
      ]
    },
    {
      "cell_type": "markdown",
      "metadata": {
        "id": "WgmbF3vz6LPj",
        "colab_type": "text"
      },
      "source": [
        "*From a practical point of view, we can see that it is not efficient to use greedy cd if the number of features is too large because we are sure that we will do at least n steps to go through all cordinates(minimize on all features)*"
      ]
    },
    {
      "cell_type": "markdown",
      "metadata": {
        "id": "iIcV_7PErZU8",
        "colab_type": "text"
      },
      "source": [
        "## Part 2: Sparse Logistic regression"
      ]
    },
    {
      "cell_type": "markdown",
      "metadata": {
        "id": "j4NiByE5rZU9",
        "colab_type": "text"
      },
      "source": [
        "### An important result\n",
        "\n",
        "Remember: we are solving \n",
        "$$\\hat w \\in \\mathrm{arg \\, min} \\sum_{i=1}^{n} \\mathrm{log} ( 1 + e^{- y_i w^\\top x_i} )  + \\lambda \\Vert w \\Vert_1$$\n",
        "1) Assuming uniqueness of the solution, show that:\n",
        "$$ \\lambda \\geq \\lambda_{max} \\Leftrightarrow \\hat w = 0$$\n",
        "where $\\lambda_{max} := \\frac 12 \\Vert X^\\top y \\Vert_{\\infty}$.\n",
        "\n",
        "\n",
        "You will need the following beautiful result: for any $w =(w_1, \\dots, w_p) \\in \\mathbb{R}^p$, the subdifferential of the L1 norm at $w$ is:\n",
        "\n",
        "$$\\partial \\Vert \\cdot \\Vert_1 (w) = \\partial \\vert \\cdot \\vert (w_1)  \\times \\dots \\times \\partial \\vert \\cdot \\vert (w_p) $$\n",
        "where $\\times$ is the Cartesian product between sets,\n",
        "and $$ \\partial \\vert \\cdot \\vert (w_j) = \n",
        "\\begin{cases} &w_j / |w_j| &\\mathrm{if} \\quad w_j \\neq 0, \n",
        "         \\\\ & [-1, 1] &\\mathrm{otherwise.} \n",
        "\\end{cases}\n",
        "$$\n",
        "\n",
        "\n",
        "(it should now be easy to find $\\partial \\Vert \\cdot \\Vert_1 (\\mathbf{0}_p)$)"
      ]
    },
    {
      "cell_type": "markdown",
      "metadata": {
        "id": "xKrWPAAprZU-",
        "colab_type": "text"
      },
      "source": [
        "<font size ='4.5' color = 'blue'>**Proof**: With uniqueness $ \\lambda \\geq \\lambda_{max} \\Leftrightarrow \\hat w = \\mathbf0_p$ </font>   \n",
        "  \n",
        "\n",
        "\n",
        "$$\\hat w \\in \\mathrm{arg \\, min} \\sum_{i=1}^{n} \\mathrm{log} ( 1 + e^{- y_i w^\\top x_i} )  + \\lambda \\Vert w \\Vert_1$$\n",
        "Appelons $f(\\omega) = \\sum_{i=1}^{n} \\mathrm{log} ( 1 + e^{- y_i w^\\top x_i} )  + \\lambda \\Vert w \\Vert_1$\n",
        "\n",
        "\n",
        "donc $\\mathbf0_p \\in \\partial f(\\hat w)$\n",
        "\n",
        "$\\partial f(w) =  \\partial \\left( \\sum_{i=1}^{n} \\mathrm{log} ( 1 + e^{- y_i w^\\top x_i} )  + \\lambda \\Vert w \\Vert_1 \\right)   =  \\nabla \\left(\\sum_{i=1}^{n} \\mathrm{log} ( 1 + e^{- y_i w^\\top x_i} )  \\right)+ \\lambda \\partial \\Vert \\cdot \\Vert_1 (w) =  \\sum_{i=1}^{n} \\nabla \\left(\\mathrm{log} ( 1 + e^{- y_i w^\\top x_i} )  \\right)+ \\lambda \\partial \\Vert \\cdot \\Vert_1 (w) = \\sum_{i=1}^{n} -\\frac{e^{- y_i w^\\top x_i}}{ 1 + e^{- y_i w^\\top x_i}} y_i x_i + \\lambda \\partial \\Vert \\cdot \\Vert_1 (w)$\n",
        "$\\sum_{i=1}^{n} -\\frac{e^{- y_i w^\\top x_i}}{ 1 + e^{- y_i w^\\top x_i}} y_i x_i \\in \\mathbb{R}$, and let's pose $\\alpha_i(w) = \\frac{e^{- y_i w^\\top x_i}}{ 1 + e^{- y_i w^\\top x_i}}$\n",
        "then\n",
        "$$0 \\in  \\partial f(\\hat w)  \\iff  \\sum_{i=1}^{n} \\alpha_i(\\hat w) y_i x_i \\in \\lambda \\partial \\Vert \\cdot \\Vert_1 (\\hat w) $$\n",
        "$\\def\\bigtimes{\\mathop{\\vcenter{\\Huge\\times}}}$\n",
        "\n",
        "$$ \\iff  \\underset{1 \\le j \\le p} \\bigtimes\\left(\\sum_{i=1}^{n} \\alpha_i(\\hat w) y_i x_{ij}\\right) \\in \\lambda \\underset{1 \\le j \\le p} \\bigtimes \\partial \\vert \\cdot \\vert (\\hat w_j)$$\n",
        "\n",
        "\n",
        "\n",
        "<font color = 'blue'> $\\Rightarrow$) Assume $\\lambda \\ge \\lambda_{max}$</font> \n",
        "\n",
        "$$ \\lambda \\partial \\Vert \\cdot \\Vert_1 (\\mathbf{0}_p) = \\lambda \\underset{1 \\le j \\le p} \\bigtimes \\partial \\vert \\cdot \\vert (0) = \\lambda  [-1,1]^p =  [-\\lambda,\\lambda]^p \\supset  [-\\lambda_{max},\\lambda_{max}]^p =  \\left[-\\frac 12 \\Vert X^\\top y \\Vert_{\\infty},\\frac 12 \\Vert X^\\top y \\Vert_{\\infty}\\right]^p $$\n",
        "\n",
        "For  $\\hat w = 0_p$ and \n",
        "$$\\underset{1 \\le j \\le p} \\bigtimes\\left(\\sum_{i=1}^{n} \\alpha_i(\\mathbf{0}_p )y_i x_{ij}\\right) = \\underset{1 \\le j \\le p} \\bigtimes\\left(\\frac12\\sum_{i=1}^{n}  y_i x_{ij}\\right) \\in \\left[-\\frac 12 \\Vert X^\\top y \\Vert_{\\infty},\\frac 12 \\Vert X^\\top y \\Vert_{\\infty}\\right]^p  \\subset \\lambda \\partial \\Vert \\cdot \\Vert_1 (\\mathbf{0}_p) $$\n",
        "\n",
        "$$\\underset{1 \\le j \\le p} \\bigtimes\\left(\\sum_{i=1}^{n} \\alpha_i(\\mathbf{0}_p )y_i x_{ij}\\right) \\in  \\lambda \\partial \\Vert \\cdot \\Vert_1 (\\mathbf{0}_p) $$\n",
        "\n",
        "because $\\forall j$, $\\sum_{i=1}^{n}  y_i x_{ij} \\leq \\Vert X^\\top y \\Vert_{\\infty}$\n",
        "\n",
        "So have $\\mathbf{0}_p \\in \\partial f(\\mathbf{0}_p)$ and with the uniqueness of solution $\\hat w = \\mathbf{0}_p$.\n",
        "\n",
        "<font color = 'blue'> $\\Leftarrow$) Assume $\\hat w = \\mathbf{0}_p$</font> \n",
        "\n",
        "So $$\\underset{1 \\le j \\le p} \\bigtimes\\left(\\sum_{i=1}^{n} \\alpha_i(\\mathbf{0}_p )y_i x_{ij}\\right) \\in  \\lambda \\partial \\Vert \\cdot \\Vert_1 (\\mathbf{0}_p)  = [-\\lambda,\\lambda]^p$$\n",
        "\n",
        "Also we have the general belonging\n",
        " $$\\underset{1 \\le j \\le p} \\bigtimes\\left(\\sum_{i=1}^{n} \\alpha_i(\\mathbf{0}_p )y_i x_{ij}\\right) = \\underset{1 \\le j \\le p} \\bigtimes\\left(\\frac12\\sum_{i=1}^{n}  y_i x_{ij}\\right) \\in \\left[-\\frac 12 \\Vert X^\\top y \\Vert_{\\infty},\\frac 12 \\Vert X^\\top y \\Vert_{\\infty}\\right]^p = [-\\lambda_{max},\\lambda_{max}]^p$$  \n",
        " \n",
        " $$\\left[-\\frac 12 \\Vert X^\\top y \\Vert_{\\infty},\\frac 12 \\Vert X^\\top y \\Vert_{\\infty}\\right]^p = \\texttt{smallest hypercube centered in }\\mathbf{0}_p\\texttt{ which contains  } \\underset{1 \\le j \\le p} \\bigtimes\\left(\\frac12\\sum_{i=1}^{n}  y_i x_{ij}\\right) $$\n",
        "\n",
        "And then we have  $[-\\lambda_{max},\\lambda_{max}]^p \\subset [-\\lambda,\\lambda]^p$   $ \\Rightarrow  \\lambda \\ge \\lambda_{max}$.\n",
        "\n",
        "\n"
      ]
    },
    {
      "cell_type": "markdown",
      "metadata": {
        "id": "out_zuU5rZU_",
        "colab_type": "text"
      },
      "source": [
        "2) Show that for sparse Logistic regression the coordinate-wise Lipschitz constant of the smooth term, $\\gamma_j$, can be taken equal to $\\Vert X_j \\Vert^2 / 4$, where $X_j$ denotes the $j$-th column of $X$."
      ]
    },
    {
      "cell_type": "markdown",
      "metadata": {
        "id": "vcqVlLhKrZVA",
        "colab_type": "text"
      },
      "source": [
        "\n",
        "\n",
        "Let's take $L(w) = \\sum_{i=1}^{n} \\mathrm{log} ( 1 + e^{- y_i w^\\top x_i} ) $ and $\\phi(u)=\\log(1+e^{-u})$.\n",
        "\n",
        "\n",
        "Let's find an upper bound for $\\phi''$\n",
        "\n",
        "After two derivations of $\\phi$ we obtain $\\phi''(u)=\\frac{e^u}{(1+e^u)^2}$\n",
        "\n",
        "\n",
        "$\\forall u \\in \\mathbb{R} , \\left(1-e^{u}\\right)^{2} \\geq 0 \\Rightarrow 1+e^{2 u} \\geq 2 e^{u} \\Rightarrow 1+e^{2 u}+2 e^{u} \\geq 4 e^{u} \\Rightarrow\\left(1+e^{u}\\right)^{2} \\geq 4 e^{u} \\Rightarrow \\frac{e^{u}}{\\left(1+e^{u}\\right)^{2}}=\\phi^{\\prime \\prime}(u) \\leq \\frac{1}{4}$\n",
        "\n",
        "Then we can saw that : $\\forall u,v$\n",
        "$$ \\left\\vert \\phi'(u) -\\phi'(v)\\right\\vert \\leq\\frac{1}{4}\\vert u-v\\vert$$\n",
        "\n",
        "Rewrite $L(w)$ according to $\\phi$\n",
        "\n",
        " $$L(w) = \\sum_{i=1}^{n} \\mathrm{log} ( 1 + e^{- y_i w^\\top x_i} ) =  \\sum_{i=1}^{n} \\phi(-y_i w^\\top x_i) $$ \n",
        "\n",
        "$$\\nabla L(w)=\\sum_{i=1}^{n} -\\phi'(- y_i w^\\top x_i) y_i x_i $$\n",
        "\n",
        "We have $\\forall j = 1, ..,p$\n",
        "$$\n",
        "\\begin{align}\n",
        "\\left\\vert\\nabla_j L(w+te_j)- \\nabla_j L(w)\\right\\vert&=\\left\\vert-\\sum_{i=1}^{n} \\phi'(- y_i (w+te_j)^\\top x_i) y_i x_{ij} + \\sum_{i=1}^{n} \\phi'(- y_i w^\\top x_i) y_i x_{ij} \\right\\vert \\\\ \n",
        "&= \\left\\vert\\sum_{i=1}^{n}y_i x_{ij} \\left(\\phi'(- y_i (w+te_j)^\\top x_i) -\\phi'(- y_i w^\\top x_i) \\right) \\right\\vert \\\\\n",
        "&\\leq \n",
        "\\sum_{i=1}^{n}\\vert y_i x_{ij}\\vert \\left\\vert\\left(\\phi'(- y_i (w+te_j)^\\top x_i) -\\phi'(- y_i w^\\top x_i) \\right) \\right\\vert \\\\\n",
        "&\\leq   \\sum_{i=1}^{n}\\vert y_i x_{ij}\\vert \\frac14\\left\\vert-y_i(w+te_j-w)x_i\\right\\vert = \n",
        "\\sum_{i=1}^{n}|y_i x_{ij}| \\frac14\\left\\vert y_ite_jx_i\\right\\vert \\\\\n",
        "&=\n",
        "\\frac14\\sum_{i=1}^{n}y_i^2 x_{ij}^2 \\left\\vert t\\right\\vert = \n",
        "\\frac14\\sum_{i=1}^{n} x_{ij}^2 \\left\\vert t\\right\\vert = \\frac{\\Vert X_j\\Vert_2^2}{4}\\vert t\\vert\n",
        "\\end{align}\n",
        "$$\n",
        "\n",
        "Therfore we can take  $\\gamma_j = \\frac{\\Vert X_j\\Vert_2^2}{4}$ as lipchitz constant for the coordinate for feature $j$.\n",
        "\n"
      ]
    },
    {
      "cell_type": "markdown",
      "metadata": {
        "id": "elQ7ExrHrZVA",
        "colab_type": "text"
      },
      "source": [
        "You are now ready to code cyclic proximal coordinate descent for sparse Logistic regression:"
      ]
    },
    {
      "cell_type": "markdown",
      "metadata": {
        "id": "FV44rJONrZVB",
        "colab_type": "text"
      },
      "source": [
        "**WARNING**: the Lasso means linear regression (quadratic fitting term) with L1 penalty. Sparse logistic regression means logistic regression with L1 penalty."
      ]
    },
    {
      "cell_type": "code",
      "metadata": {
        "id": "OwW2lAwF8OCT",
        "colab_type": "code",
        "colab": {}
      },
      "source": [
        "X, y = simu(coefs, n_samples=1000, for_logreg=True)\n",
        "lambda_max = norm(X.T.dot(y), ord= np.inf) / 2.\n",
        "lamb = lambda_max / 20.  \n",
        "# much easier to parametrize lambda as a function of lambda_max than \n",
        "# to take random values like 0.1 in previous Labs\n",
        "\n",
        "\n",
        "def sigmoid(t):\n",
        "    \"\"\"Sigmoid function\"\"\"\n",
        "    return 1. / (1. + np.exp(-t))\n",
        "\n",
        "\n",
        "def soft_thresh(x, u):\n",
        "    \"\"\"Soft thresholding of x at level u\"\"\"\n",
        "    return np.sign(x) * np.maximum(0., np.abs(x) - u)\n",
        "\n",
        "\n",
        "def grad_j_logreg(x, A, b, j):\n",
        "    \"\"\"Logistic gradient\"\"\"\n",
        "    n_samples, _ = A.shape\n",
        "    Ax = A.dot(x)\n",
        "    grad = 0.\n",
        "    for i in range(n_samples):\n",
        "      grad -= b[i] * A[i,j] * sigmoid(-b[i]*Ax[i])\n",
        "    return grad\n",
        "\n",
        "def cd_logreg(X, y, lamb, n_iter):\n",
        "    n_samples, n_features = X.shape\n",
        "    w = np.zeros(n_features)\n",
        "    all_objs = np.zeros(n_iter)\n",
        "    Xw = X.dot(w)\n",
        "    \n",
        "    # TODO\n",
        "    lips_const=[]\n",
        "    for j in range(n_features):\n",
        "          lips_const.append( 1/4*np.linalg.norm(X[:,j])**2)\n",
        "    # END TODO\n",
        "    \n",
        "    for t in range(n_iter) :\n",
        "        for j in range(n_features):\n",
        "            old_w_j = w[j]\n",
        "            # TODO\n",
        "            ywX = np.array([y[i]*w @ X[i,:] for i in range(n_samples)])\n",
        "            step = 1 / lips_const[j]\n",
        "            grad_j = np.sum(-sigmoid(-ywX)*(1-sigmoid(-ywX))*y*X[:,j])\n",
        "            w[j] = soft_thresh(old_w_j - step * grad_j, step * lamb)\n",
        "            \n",
        "            if old_w_j != w[j]:\n",
        "                Xw += X[:,j].dot( w[j]  - old_w_j )\n",
        "            #END TODO\n",
        "\n",
        "        all_objs[t] = np.log(1. + np.exp(-y * Xw)).sum() + lamb * norm(w, ord=1)\n",
        "    \n",
        "    return w, all_objs"
      ],
      "execution_count": 0,
      "outputs": []
    },
    {
      "cell_type": "code",
      "metadata": {
        "id": "I7FzYIKq_xyI",
        "colab_type": "code",
        "colab": {}
      },
      "source": [
        "w_logcyclic, objs_logcycl = cd_logreg(X, y, lamb, 100)"
      ],
      "execution_count": 0,
      "outputs": []
    },
    {
      "cell_type": "code",
      "metadata": {
        "id": "oIVbwLuLCfE7",
        "colab_type": "code",
        "outputId": "6c5bbc91-46ce-4c1d-c271-b9c71bb45de4",
        "colab": {
          "base_uri": "https://localhost:8080/",
          "height": 281
        }
      },
      "source": [
        "plt.stem(w_logcyclic,use_line_collection=True)\n",
        "plt.title(\"w - Logistic regression - Lasso\")\n",
        "plt.show()"
      ],
      "execution_count": 43,
      "outputs": [
        {
          "output_type": "display_data",
          "data": {
            "image/png": "[encoded data removed]",
            "text/plain": [
              "<Figure size 432x288 with 1 Axes>"
            ]
          },
          "metadata": {
            "tags": []
          }
        }
      ]
    },
    {
      "cell_type": "code",
      "metadata": {
        "id": "KiqMUFVKY7YT",
        "colab_type": "code",
        "colab": {
          "base_uri": "https://localhost:8080/",
          "height": 298
        },
        "outputId": "6371484d-dfa7-455d-cc06-30022aa6a883"
      },
      "source": [
        "plt.plot(objs_logcycl)\n",
        "plt.title(\"Logistic regression+ lasso\")"
      ],
      "execution_count": 44,
      "outputs": [
        {
          "output_type": "execute_result",
          "data": {
            "text/plain": [
              "Text(0.5, 1.0, 'Logistic regression+ lasso')"
            ]
          },
          "metadata": {
            "tags": []
          },
          "execution_count": 44
        },
        {
          "output_type": "display_data",
          "data": {
            "image/png": "[encoded data removed]",
            "text/plain": [
              "<Figure size 432x288 with 1 Axes>"
            ]
          },
          "metadata": {
            "tags": []
          }
        }
      ]
    },
    {
      "cell_type": "markdown",
      "metadata": {
        "id": "GqptvsbXrZVE",
        "colab_type": "text"
      },
      "source": [
        "# Part 3: Real data\n",
        "\n",
        "We will compare vanilla cyclic CD and ISTA to solve the Lasso on a real dataset, called _leukemia_."
      ]
    },
    {
      "cell_type": "code",
      "metadata": {
        "id": "lEp9pvtlrZVF",
        "colab_type": "code",
        "colab": {}
      },
      "source": [
        "from sklearn.datasets import fetch_openml\n",
        "\n",
        "leuk = fetch_openml(\"leukemia\")\n",
        "\n",
        "X = np.asfortranarray(leuk.data)\n",
        "y = np.ones(leuk.target.shape)\n",
        "y[leuk.target == leuk.target[0]] = -1."
      ],
      "execution_count": 0,
      "outputs": []
    },
    {
      "cell_type": "code",
      "metadata": {
        "id": "2M709gUOrZVI",
        "colab_type": "code",
        "outputId": "b8da4212-febc-4327-a67f-80c3c6474653",
        "colab": {
          "base_uri": "https://localhost:8080/",
          "height": 34
        }
      },
      "source": [
        "print(X.shape)\n",
        "\n",
        "lambda_max_lasso = norm(X.T.dot(y), ord=np.inf)\n",
        "lambd = lambda_max_lasso / 5."
      ],
      "execution_count": 0,
      "outputs": [
        {
          "output_type": "stream",
          "text": [
            "(72, 7129)\n"
          ],
          "name": "stdout"
        }
      ]
    },
    {
      "cell_type": "markdown",
      "metadata": {
        "id": "EYGOxBT9rZVK",
        "colab_type": "text"
      },
      "source": [
        "Code:\n",
        "- a simple proximal gradient solver for the Lasso\n",
        "- a prox CD solver for the Lasso\n",
        "and compare them on this dataset. \n",
        "Do the plots in terms of epochs, not updates (to be fair to CD)."
      ]
    },
    {
      "cell_type": "markdown",
      "metadata": {
        "id": "NxrBPYji5Pat",
        "colab_type": "text"
      },
      "source": [
        "## Answers"
      ]
    },
    {
      "cell_type": "markdown",
      "metadata": {
        "id": "o4llUZA35AXU",
        "colab_type": "text"
      },
      "source": [
        "- <font color='blue'>A simple proximal gradient solver for the Lasso. </font>"
      ]
    },
    {
      "cell_type": "code",
      "metadata": {
        "id": "DEhv8lgW-pj9",
        "colab_type": "code",
        "colab": {}
      },
      "source": [
        "def L1_norm(x, lmbd):\n",
        "    \"\"\"Value of the L1 penalization at x\"\"\"\n",
        "    z = lmbd*np.linalg.norm(x,ord = 1)\n",
        "    return z \n",
        "\n",
        "def prox_L1(x, lmbd):\n",
        "    \"\"\"Proximal operator for the L1 at x\"\"\"\n",
        "    z = np.sign(x)*np.maximum(np.abs(x)-lmbd,0.)\n",
        "    return z\n",
        "def smoothness_const_linreg(A):\n",
        "    \"\"\"Lipschitz constant for least squares loss\"\"\"    \n",
        "    \n",
        "    return (np.linalg.norm(A,ord=2)**2)\n",
        "\n",
        "def loss_linreg(x):\n",
        "    \"\"\"Least squares loss\"\"\"\n",
        "    \n",
        "    return np.sum(np.square(b-A.dot(x)))/(2)\n",
        "\n",
        "def grad_linreg(x):\n",
        "    \"\"\"Least squares gradient\"\"\"\n",
        "    \n",
        "    return np.dot(A.T, A.dot(x)-b)"
      ],
      "execution_count": 0,
      "outputs": []
    },
    {
      "cell_type": "code",
      "metadata": {
        "id": "lPlh7UlIChjn",
        "colab_type": "code",
        "colab": {}
      },
      "source": [
        "def PGD(x0, f, grad_f, R, prox_R, step, lmbd=0., n_iter=50, x_true=coefs, verbose=True):\n",
        "    \"\"\"Proximal gradient descent algorithm\"\"\"\n",
        "    x = x0.copy()\n",
        "\n",
        "\n",
        "    # objective history\n",
        "    objectives = []\n",
        "    \n",
        "    # Current objective\n",
        "    obj = f(x) + R(x, lmbd)\n",
        "    objectives.append(obj)\n",
        "    if verbose:\n",
        "        print(\"Lauching PGD solver...\")\n",
        "        print(' | '.join([name.center(8) for name in [\"it\", \"obj\", \"err\"]]))\n",
        "    for k in range(n_iter + 1):\n",
        "\n",
        "        x_new = prox_R(x - grad_f(x)/step, lmbd/step)\n",
        "        x=x_new\n",
        "        obj = f(x)  + R(x, lmbd)\n",
        "       \n",
        "    \n",
        "        objectives.append(obj)\n",
        "        if k % 10 == 0 and verbose:\n",
        "            print(' | '.join([(\"%d\" % k).rjust(8), \n",
        "                              (\"%.2e\" % obj).rjust(8), \n",
        "                              (\"%.2e\" % err).rjust(8)]))\n",
        "    return x, objectives"
      ],
      "execution_count": 0,
      "outputs": []
    },
    {
      "cell_type": "markdown",
      "metadata": {
        "id": "_XEshSPX5mVU",
        "colab_type": "text"
      },
      "source": [
        "- <font color='blue'>A prox CD solver for the Lasso\n",
        "and compare them on this dataset. Do the plots in terms of epochs, not updates (to be fair to CD)</font>"
      ]
    },
    {
      "cell_type": "code",
      "metadata": {
        "id": "gm56og4YESbm",
        "colab_type": "code",
        "colab": {}
      },
      "source": [
        "def cd_lasso(X, y, lmbd, n_iter):\n",
        "    n_samples, n_features = X.shape\n",
        "    w = np.zeros(n_features)\n",
        "    all_objs = []\n",
        "    Xw = X.dot(w)\n",
        "    \n",
        "\n",
        "    lips_const = norm(X, ord=2)**2\n",
        "    step = 1 / lips_const\n",
        "    \n",
        "    \n",
        "    # current objective\n",
        "    obj = 0.5 * norm(y- X.dot(w))**2 + lmbd*norm(w, ord=1)\n",
        "    all_objs.append(obj)\n",
        "    for t in range(n_iter) :\n",
        "        for j in range(n_features):\n",
        "            old_w_j = w[j]\n",
        "           \n",
        "            grad_j = np.dot(X[:,j].T, X.dot(w) - y)\n",
        "            w[j] = soft_thresh(old_w_j - step * grad_j, step * lmbd)\n",
        "            \n",
        "            if old_w_j != w[j]:\n",
        "                Xw += X[:,j].dot( w[j]  - old_w_j )\n",
        "            \n",
        "        obj = 0.5 * norm(y- X.dot(w))**2 + lmbd * norm(w, ord=1)\n",
        "        all_objs.append(obj)    \n",
        "\n",
        "    return w, all_objs"
      ],
      "execution_count": 0,
      "outputs": []
    },
    {
      "cell_type": "code",
      "metadata": {
        "id": "GlwacuvFGGnT",
        "colab_type": "code",
        "colab": {}
      },
      "source": [
        "n_samples, n_features  = X.shape\n",
        "\n",
        "n = n_samples\n",
        "A, b = X, y\n",
        "x0 = np.zeros(n_features)\n",
        "coefs = np.random.randn(n_features)\n",
        "n_iter = 10\n",
        "#\n",
        "pgd_x_hat, pgd_obj_hat = PGD(x0=x0, f=loss_linreg, grad_f=grad_linreg, R=L1_norm,\n",
        "                                prox_R=prox_L1, step=smoothness_const_linreg(A), lmbd=lambd, n_iter=n_iter, x_true=coefs, verbose=False)\n",
        "\n",
        "\n",
        "#\n",
        "w_cdlasso, objs_cdlasso = cd_lasso(A, b, lmbd=lambd, n_iter=n_iter)"
      ],
      "execution_count": 0,
      "outputs": []
    },
    {
      "cell_type": "code",
      "metadata": {
        "id": "W1AbAGVbi5Qz",
        "colab_type": "code",
        "outputId": "6e7f5503-1914-4bf2-8018-4db084f765a5",
        "colab": {
          "base_uri": "https://localhost:8080/",
          "height": 295
        }
      },
      "source": [
        "plt.plot(pgd_obj_hat, label='PGD', color='blue')\n",
        "plt.plot(objs_cdlasso, label='CD_LASSO', color='red')\n",
        "plt.title(\"Coordinate Descencd Lasso vs PGD \")\n",
        "plt.xlabel('Epochs')\n",
        "plt.ylabel('Objective')\n",
        "plt.legend()\n",
        "plt.show()"
      ],
      "execution_count": 0,
      "outputs": [
        {
          "output_type": "display_data",
          "data": {
            "image/png": "[encoded data removed]",
            "text/plain": [
              "<Figure size 432x288 with 1 Axes>"
            ]
          },
          "metadata": {
            "tags": []
          }
        }
      ]
    }
  ]
}